{
 "cells": [
  {
   "cell_type": "markdown",
   "metadata": {},
   "source": [
    "# Oral Health Risk Analysis\n",
    "This notebook performs a full analysis on a dataset with encoded features for dental and dietary health."
   ]
  },
  {
   "cell_type": "code",
   "execution_count": null,
   "metadata": {},
   "outputs": [],
   "source": [
    "import pandas as pd\n",
    "import numpy as np\n",
    "import matplotlib.pyplot as plt\n",
    "import seaborn as sns\n",
    "from scipy.stats import f_oneway, kruskal, chi2_contingency\n",
    "from pandas.api.types import is_numeric_dtype\n",
    "from warnings import filterwarnings\n",
    "filterwarnings('ignore')"
   ]
  },
  {
   "cell_type": "code",
   "execution_count": null,
   "metadata": {},
   "outputs": [],
   "source": [
    "# Load the data\n",
    "df = pd.read_csv('training_data.csv')\n",
    "df.shape, df.columns.tolist()"
   ]
  },
  {
   "cell_type": "markdown",
   "metadata": {},
   "source": [
    "## Correlation Matrix and Heatmap"
   ]
  },
  {
   "cell_type": "code",
   "execution_count": null,
   "metadata": {},
   "outputs": [],
   "source": [
    "# Only use numeric columns\n",
    "numeric_df = df.select_dtypes(include=np.number)\n",
    "correlation_matrix = numeric_df.corr()\n",
    "plt.figure(figsize=(16, 12))\n",
    "sns.heatmap(correlation_matrix, cmap='coolwarm', annot=False)\n",
    "plt.title('Pearson Correlation Heatmap')\n",
    "plt.tight_layout()\n",
    "plt.show()"
   ]
  },
  {
   "cell_type": "markdown",
   "metadata": {},
   "source": [
    "## Distribution Plots"
   ]
  },
  {
   "cell_type": "code",
   "execution_count": null,
   "metadata": {},
   "outputs": [],
   "source": [
    "for column in numeric_df.columns:\n",
    "    plt.figure(figsize=(6, 4))\n",
    "    sns.histplot(df[column], kde=True, bins=20)\n",
    "    plt.title(f'Distribution of {column}')\n",
    "    plt.xlabel(column)\n",
    "    plt.tight_layout()\n",
    "    plt.show()"
   ]
  },
  {
   "cell_type": "markdown",
   "metadata": {},
   "source": [
    "## Statistical Tests Against Risk Level"
   ]
  },
  {
   "cell_type": "code",
   "execution_count": null,
   "metadata": {},
   "outputs": [],
   "source": [
    "risk_groups = df['risk_level'].unique()\n",
    "results = []\n",
    "for column in df.columns:\n",
    "    if column == 'risk_level':\n",
    "        continue\n",
    "    if is_numeric_dtype(df[column]):\n",
    "        groups = [df[df['risk_level'] == level][column] for level in risk_groups]\n",
    "        stat, p = kruskal(*groups)\n",
    "        results.append((column, 'Kruskal-Wallis', p))\n",
    "    else:\n",
    "        contingency = pd.crosstab(df[column], df['risk_level'])\n",
    "        chi2, p, _, _ = chi2_contingency(contingency)\n",
    "        results.append((column, 'Chi-square', p))"
   ]
  },
  {
   "cell_type": "markdown",
   "metadata": {},
   "source": [
    "## Summary Table with p-values"
   ]
  },
  {
   "cell_type": "code",
   "execution_count": null,
   "metadata": {},
   "outputs": [],
   "source": [
    "summary_df = pd.DataFrame(results, columns=['Variable', 'Test', 'p-value'])\n",
    "summary_df['Significant (<0.05)'] = summary_df['p-value'] < 0.05\n",
    "summary_df.sort_values(by='p-value', inplace=True)\n",
    "summary_df"
   ]
  }
 ],
 "metadata": {
  "kernelspec": {
   "display_name": "Python 3",
   "language": "python",
   "name": "python3"
  },
  "language_info": {
   "name": "python",
   "version": "3.x"
  }
 },
 "nbformat": 4,
 "nbformat_minor": 5
}
